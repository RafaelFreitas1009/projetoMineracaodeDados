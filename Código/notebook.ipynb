{
 "cells": [
  {
   "cell_type": "markdown",
   "metadata": {},
   "source": [
    "# Projeto de Mineração de dados"
   ]
  },
  {
   "cell_type": "markdown",
   "metadata": {},
   "source": [
    "# Indrodução"
   ]
  },
  {
   "cell_type": "markdown",
   "metadata": {},
   "source": [
    "# Objetivos\n",
    "## Objetivos Gerais\n",
    "\n",
    "## Objetivos Específicos"
   ]
  },
  {
   "cell_type": "markdown",
   "metadata": {},
   "source": [
    "# Materiais e Métodos"
   ]
  },
  {
   "cell_type": "markdown",
   "metadata": {},
   "source": [
    "## 2. Carregando e explorando os dados\n",
    "Primeiro, vamos carregar os dados e dar uma olhada na sua estrutura. "
   ]
  },
  {
   "cell_type": "code",
   "execution_count": null,
   "metadata": {
    "vscode": {
     "languageId": "plaintext"
    }
   },
   "outputs": [],
   "source": [
    "import pandas as pd\n",
    "import matplotlib.pyplot as plt\n",
    "import seaborn as sns\n",
    "\n",
    "# Carregar os dados da URL\n",
    "url = 'https://raw.githubusercontent.com/RafaelFreitas1009/projetoMineracaodeDados/refs/heads/main/Documentos/StudentsPerformance.csv'\n",
    "df = pd.read_csv(url)\n",
    "\n",
    "# Exibir as primeiras linhas do dataset\n",
    "print(df.head())\n",
    "\n"
   ]
  },
  {
   "cell_type": "markdown",
   "metadata": {},
   "source": [
    "### 2.1 Visualizando a Estrutura dos Dados\n",
    "Rodamos o código abaixo para entender a estrutura:"
   ]
  },
  {
   "cell_type": "code",
   "execution_count": null,
   "metadata": {
    "vscode": {
     "languageId": "plaintext"
    }
   },
   "outputs": [],
   "source": [
    "# Informações gerais do dataset\n",
    "print(df.info())\n",
    "\n",
    "# Estatísticas descritivas\n",
    "print(df.describe())\n"
   ]
  },
  {
   "cell_type": "markdown",
   "metadata": {},
   "source": [
    "### 2.2 Distribuição das Notas\n",
    "Agora, vamos visualizar a distribuição das notas dos alunos nas disciplinas:"
   ]
  },
  {
   "cell_type": "code",
   "execution_count": null,
   "metadata": {
    "vscode": {
     "languageId": "plaintext"
    }
   },
   "outputs": [],
   "source": [
    "# Configuração dos gráficos\n",
    "plt.figure(figsize=(15,5))\n",
    "\n",
    "# Criando histogramas para cada nota\n",
    "for i, subject in enumerate(['math score', 'reading score', 'writing score']):\n",
    "    plt.subplot(1, 3, i+1)\n",
    "    sns.histplot(df[subject], bins=20, kde=True)\n",
    "    plt.title(f'Distribuição das Notas - {subject}')\n",
    "    plt.xlabel('Nota')\n",
    "    plt.ylabel('Frequência')\n",
    "\n",
    "plt.tight_layout()\n",
    "plt.show()\n"
   ]
  },
  {
   "cell_type": "markdown",
   "metadata": {},
   "source": [
    " O que isso nos mostra?\n",
    "\n",
    "Como as notas estão distribuídas.\n",
    "Se há algum padrão, como notas mais concentradas em determinada faixa.\n"
   ]
  },
  {
   "cell_type": "markdown",
   "metadata": {},
   "source": [
    "### 2.3 Analisando Relações Entre Notas\n",
    "Vamos agora ver se há correlação entre as notas das diferentes disciplinas:"
   ]
  },
  {
   "cell_type": "code",
   "execution_count": null,
   "metadata": {
    "vscode": {
     "languageId": "plaintext"
    }
   },
   "outputs": [],
   "source": [
    "# Matriz de correlação\n",
    "plt.figure(figsize=(8, 6))\n",
    "sns.heatmap(df.select_dtypes(include=['number']).corr(), annot=True, cmap='coolwarm', fmt='.2f')\n",
    "plt.title('Correlação Entre as Notas')\n",
    "plt.show()"
   ]
  },
  {
   "cell_type": "markdown",
   "metadata": {},
   "source": [
    "## 3. Pré-processamento dos Dados\n",
    "Agora, seguimos para a limpeza e transformação dos dados para preparar para a modelagem."
   ]
  },
  {
   "cell_type": "markdown",
   "metadata": {},
   "source": [
    "### 3.1 Lidando com Valores Nulos"
   ]
  },
  {
   "cell_type": "code",
   "execution_count": null,
   "metadata": {
    "vscode": {
     "languageId": "plaintext"
    }
   },
   "outputs": [],
   "source": [
    "# Verificando valores nulos\n",
    "print(df.isnull().sum())\n"
   ]
  },
  {
   "cell_type": "markdown",
   "metadata": {},
   "source": [
    "### 3.2 Convertendo Variáveis Categóricas\n",
    "Se houver colunas categóricas (exemplo: gênero, nível de educação dos pais), precisamos convertê-las para valores numéricos antes da modelagem."
   ]
  },
  {
   "cell_type": "code",
   "execution_count": null,
   "metadata": {
    "vscode": {
     "languageId": "plaintext"
    }
   },
   "outputs": [],
   "source": [
    "# Verificando colunas categóricas\n",
    "print(df.select_dtypes(include=['object']).head())\n",
    "\n",
    "# Convertendo variáveis categóricas para numéricas\n",
    "df = pd.get_dummies(df, drop_first=True)\n"
   ]
  },
  {
   "cell_type": "markdown",
   "metadata": {},
   "source": [
    "### 3.3 Remoção de Outliers\n",
    "Usamos o IQR (Interquartile Range) para detectar e remover outliers."
   ]
  },
  {
   "cell_type": "code",
   "execution_count": null,
   "metadata": {
    "vscode": {
     "languageId": "plaintext"
    }
   },
   "outputs": [],
   "source": [
    "# Função para remoção de outliers com IQR\n",
    "def remove_outliers(df, column):\n",
    "    Q1 = df[column].quantile(0.25)\n",
    "    Q3 = df[column].quantile(0.75)\n",
    "    IQR = Q3 - Q1\n",
    "    lower_bound = Q1 - 1.5 * IQR\n",
    "    upper_bound = Q3 + 1.5 * IQR\n",
    "    return df[(df[column] >= lower_bound) & (df[column] <= upper_bound)]\n",
    "\n",
    "# Aplicando remoção de outliers nas notas\n",
    "for col in ['math score', 'reading score', 'writing score']:\n",
    "    df = remove_outliers(df, col)\n",
    "\n",
    "print(\"Dados após remoção de outliers:\", df.shape)\n"
   ]
  },
  {
   "cell_type": "markdown",
   "metadata": {},
   "source": [
    "## 4. Modelagem Preditiva\n",
    "Agora, vamos testar um modelo para prever o desempenho dos alunos. Podemos tentar prever, por exemplo, a nota de matemática com base nas outras informações."
   ]
  },
  {
   "cell_type": "markdown",
   "metadata": {},
   "source": [
    "### 4.1 Separando os Dados em Treino e Teste"
   ]
  },
  {
   "cell_type": "code",
   "execution_count": null,
   "metadata": {
    "vscode": {
     "languageId": "plaintext"
    }
   },
   "outputs": [],
   "source": [
    "from sklearn.model_selection import train_test_split\n",
    "\n",
    "# Definindo a variável alvo e as features\n",
    "X = df.drop(columns=['math score'])\n",
    "y = df['math score']\n",
    "\n",
    "# Dividindo os dados em treino e teste (80% treino, 20% teste)\n",
    "X_train, X_test, y_train, y_test = train_test_split(X, y, test_size=0.2, random_state=42)\n",
    "\n",
    "print(\"Tamanho dos conjuntos: \", X_train.shape, X_test.shape)\n"
   ]
  },
  {
   "cell_type": "markdown",
   "metadata": {},
   "source": [
    "### 4.2 Treinando um Modelo de Regressão\n",
    "Vamos usar uma Regressão Linear para prever as notas de matemática."
   ]
  },
  {
   "cell_type": "code",
   "execution_count": null,
   "metadata": {
    "vscode": {
     "languageId": "plaintext"
    }
   },
   "outputs": [],
   "source": [
    "from sklearn.linear_model import LinearRegression\n",
    "from sklearn.metrics import mean_absolute_error, mean_squared_error, r2_score\n",
    "\n",
    "# Criando e treinando o modelo\n",
    "model = LinearRegression()\n",
    "model.fit(X_train, y_train)\n",
    "\n",
    "# Fazendo previsões\n",
    "y_pred = model.predict(X_test)\n",
    "\n",
    "# Avaliação do modelo\n",
    "mae = mean_absolute_error(y_test, y_pred)\n",
    "mse = mean_squared_error(y_test, y_pred)\n",
    "r2 = r2_score(y_test, y_pred)\n",
    "\n",
    "print(f\"MAE: {mae:.2f}\")\n",
    "print(f\"MSE: {mse:.2f}\")\n",
    "print(f\"R²: {r2:.2f}\")\n"
   ]
  },
  {
   "cell_type": "markdown",
   "metadata": {},
   "source": [
    "O MAE mostra o erro médio absoluto das previsões.\n",
    "O MSE dá o erro quadrático médio (mais sensível a outliers).\n",
    "O R² indica o quanto o modelo explica a variação dos dados.\n",
    "Se o desempenho não for bom, podemos testar outros modelos como Random Forest ou Redes Neurais."
   ]
  },
  {
   "cell_type": "markdown",
   "metadata": {},
   "source": [
    "# Resultados e Discusões"
   ]
  },
  {
   "cell_type": "markdown",
   "metadata": {},
   "source": [
    "# Conclusão\n"
   ]
  }
 ],
 "metadata": {
  "language_info": {
   "name": "python"
  }
 },
 "nbformat": 4,
 "nbformat_minor": 2
}
