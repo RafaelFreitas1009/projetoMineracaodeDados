{
 "cells": [
  {
   "cell_type": "markdown",
   "metadata": {},
   "source": [
    "# Projeto de Mineração de dados\n",
    "Aluno: Rafael Freitas\n",
    "\n",
    "\n",
    "### Analisando Fatores que Afetam o Desempenho Estudantil\n",
    "\n",
    "\n",
    "Esse projeto busca explorar os fatores que influenciam o desempenho acadêmico dos alunos usando um conjunto de dados que inclui informações demográficas, socioeconômicas e educacionais."
   ]
  },
  {
   "cell_type": "markdown",
   "metadata": {},
   "source": [
    "## Descrição do Dataset  "
   ]
  },
  {
   "cell_type": "markdown",
   "metadata": {},
   "source": [
    "O dataset *\"StudentsPerformance.csv\"* contém informações sobre o desempenho acadêmico de estudantes em três disciplinas: Matemática, Leitura e Escrita. Além das notas, o conjunto de dados inclui características demográficas e educacionais dos alunos. Abaixo, uma descrição das colunas presentes no dataset:  \n",
    "\n",
    "- **gender** (*gênero*): Indica o gênero do estudante, podendo ser *\"male\"* (masculino) ou *\"female\"* (feminino).  \n",
    "- **race/ethnicity** (*raça/etnia*): Classificação do aluno em grupos raciais ou étnicos, representados por categorias como *\"group A\"*, *\"group B\"*, etc.  \n",
    "- **parental level of education** (*nível de educação dos pais*): Nível educacional mais alto alcançado pelos pais ou responsáveis pelo aluno, como *\"high school\"* (ensino médio), *\"associate's degree\"* (tecnólogo), *\"bachelor's degree\"* (graduação), entre outros.  \n",
    "- **lunch** (*almoço*): Tipo de almoço recebido pelo aluno, podendo ser *\"standard\"* (padrão) ou *\"free/reduced\"* (gratuito ou com preço reduzido).  \n",
    "- **test preparation course** (*curso preparatório para o teste*): Indica se o aluno completou um curso preparatório antes dos testes, com valores *\"completed\"* (completou) ou *\"none\"* (nenhum).  \n",
    "- **math score** (*nota em matemática*): Pontuação obtida pelo aluno na prova de matemática, variando de 0 a 100.  \n",
    "- **reading score** (*nota em leitura*): Pontuação obtida pelo aluno na prova de leitura, variando de 0 a 100.  \n",
    "- **writing score** (*nota em escrita*): Pontuação obtida pelo aluno na prova de escrita, variando de 0 a 100.  \n",
    "\n",
    "\n",
    "\n",
    "<h3>\n",
    "  O dataset pode ser encontrado no meu GitHub, no seguinte link:  \n",
    "  <a href=\"https://raw.githubusercontent.com/RafaelFreitas1009/projetoMineracaodeDados/refs/heads/main/Documentos/StudentsPerformance.csv\"\n",
    "     target=\"_blank\"\n",
    "     style=\"text-decoration: none; color: orange;\">\n",
    "     LINK DO DATASET 🔗\n",
    "  </a>\n",
    "</h3>\n"
   ]
  },
  {
   "cell_type": "markdown",
   "metadata": {},
   "source": [
    "# 🔍Possíveis Insights  "
   ]
  },
  {
   "cell_type": "markdown",
   "metadata": {},
   "source": [
    "\n",
    "Com base nas colunas disponíveis, podemos explorar diversos padrões e relações entre as variáveis:  \n",
    "\n",
    "<h2> 1. Impacto do nível de escolaridade dos pais no desempenho acadêmico  </h2>\n",
    "- Alunos cujos pais têm níveis educacionais mais altos têm melhores notas?  \n",
    "- Qual a relação entre o nível de escolaridade dos pais e as notas em matemática, leitura e escrita?  \n",
    "\n",
    "<h2> 2. Diferença de desempenho entre gêneros  </h2>\n",
    "- Meninas e meninos têm diferenças significativas nas notas de matemática, leitura e escrita?  \n",
    "- Quem tem maior média em cada disciplina?  \n",
    "\n",
    "<h2> 3. Influência do tipo de almoço no desempenho  </h2>\n",
    "- Alunos que recebem almoço gratuito ou reduzido têm notas diferentes dos que pagam pelo almoço?  \n",
    "- O fator socioeconômico pode impactar no desempenho?  \n",
    "\n",
    "<h2> 4. Efeito do teste de preparação  </h2>\n",
    "- Alunos que fizeram o teste de preparação tiveram melhores notas?  \n",
    "- Qual o impacto do teste de preparação para cada disciplina?  \n",
    "\n",
    "<h2> 5. Disparidades entre grupos raciais/étnicos  </h2>\n",
    "- Algum grupo apresenta desempenho consistentemente melhor ou pior?  \n",
    "- Existe diferença entre etnias no desempenho escolar?  \n",
    "- Como esses fatores afetam cada disciplina?  \n",
    "\n",
    "<h2> 6. Correlação entre as notas  </h2>\n",
    "- As notas de matemática, leitura e escrita estão altamente correlacionadas?  \n",
    "- Alunos com boas notas em matemática também se saem bem em leitura e escrita?  \n",
    "- Existe algum padrão entre as notas?  \n",
    "\n",
    "<h2> 7. Detecção de outliers  </h2>\n",
    "- Há alunos com notas excepcionalmente altas ou baixas?  \n",
    "\n",
    "<h2> 8. Predição de desempenho  </h2>\n",
    "- Podemos usar modelos de Machine Learning para prever a nota de um aluno com base nas outras características?  \n",
    "- Quais características são mais relevantes para prever o desempenho?  \n"
   ]
  },
  {
   "cell_type": "markdown",
   "metadata": {},
   "source": [
    "### Importação das bibliotecas necessárias"
   ]
  },
  {
   "cell_type": "code",
   "execution_count": null,
   "metadata": {
    "vscode": {
     "languageId": "plaintext"
    }
   },
   "outputs": [],
   "source": [
    "import pandas as pd\n",
    "import numpy as np\n",
    "import seaborn as sns\n",
    "import matplotlib.pyplot as plt\n",
    "from sklearn.model_selection import train_test_split\n",
    "from sklearn.preprocessing import StandardScaler, LabelEncoder\n",
    "from sklearn.ensemble import RandomForestRegressor\n",
    "from sklearn.metrics import mean_absolute_error, r2_score"
   ]
  },
  {
   "cell_type": "markdown",
   "metadata": {},
   "source": [
    "Estamos importando as bibliotecas necessárias para manipulação e análise dos dados,"
   ]
  },
  {
   "cell_type": "code",
   "execution_count": null,
   "metadata": {
    "vscode": {
     "languageId": "plaintext"
    }
   },
   "outputs": [],
   "source": [
    "df = pd.read_csv(\"https://raw.githubusercontent.com/RafaelFreitas1009/projetoMineracaodeDados/refs/heads/main/Documentos/StudentsPerformance.csv\")"
   ]
  },
  {
   "cell_type": "markdown",
   "metadata": {},
   "source": [
    "Carregamos o dataset que se encontra no github do meu repositório usando pandas"
   ]
  },
  {
   "cell_type": "code",
   "execution_count": null,
   "metadata": {
    "vscode": {
     "languageId": "plaintext"
    }
   },
   "outputs": [],
   "source": [
    "print(df.head())"
   ]
  },
  {
   "cell_type": "markdown",
   "metadata": {},
   "source": [
    "A função df.head() exibe as primeiras 5 linhas do dataframe, permitindo verificar a estrutura do dataset"
   ]
  },
  {
   "cell_type": "markdown",
   "metadata": {},
   "source": [
    "### 🔹1.Análise exploratória🔹"
   ]
  },
  {
   "cell_type": "code",
   "execution_count": null,
   "metadata": {
    "vscode": {
     "languageId": "plaintext"
    }
   },
   "outputs": [],
   "source": [
    "print(df.info())"
   ]
  },
  {
   "cell_type": "markdown",
   "metadata": {},
   "source": [
    "df.info() Exibe um resumo do dataframe, incluindo: O número total de entradas (linhas). O nome das colunas e seus tipos de dados. A quantidade de valores não nulos em cada coluna (ajuda a identificar valores ausentes)."
   ]
  },
  {
   "cell_type": "code",
   "execution_count": null,
   "metadata": {
    "vscode": {
     "languageId": "plaintext"
    }
   },
   "outputs": [],
   "source": [
    "print(df.describe())"
   ]
  },
  {
   "cell_type": "markdown",
   "metadata": {},
   "source": [
    "df.describe( ) Retorna estatísticas descritivas para as colunas numéricas. Contagem (count), média (mean), desvio padrão (std), valores mínimos e máximos, e percentis (25%, 50% e 75%)."
   ]
  },
  {
   "cell_type": "code",
   "execution_count": null,
   "metadata": {
    "vscode": {
     "languageId": "plaintext"
    }
   },
   "outputs": [],
   "source": [
    "for col in df.select_dtypes(include=['object']).columns:\n",
    "    print(f\"\\nValores únicos em {col}:\")\n",
    "    print(df[col].value_counts())"
   ]
  },
  {
   "cell_type": "markdown",
   "metadata": {},
   "source": [
    "Pelo código acima, foi percorrido todas as colunas categóricas do dataframe. df[col].value_counts(). Conta quantas vezes cada valor aparece na coluna. O objetivo é entender a distribuição das categorias (exemplo: quantos alunos são do sexo feminino ou masculino). Ajuda a detectar possíveis erros ou valores inesperados. Útil para decidir se variáveis categóricas precisam de pré-processamento antes da modelagem."
   ]
  },
  {
   "cell_type": "code",
   "execution_count": null,
   "metadata": {
    "vscode": {
     "languageId": "plaintext"
    }
   },
   "outputs": [],
   "source": [
    "fig, axes = plt.subplots(1, 3, figsize=(15, 5))\n",
    "sns.histplot(df['math score'], bins=20, kde=True, ax=axes[0], color='blue')\n",
    "sns.histplot(df['reading score'], bins=20, kde=True, ax=axes[1], color='red')\n",
    "sns.histplot(df['writing score'], bins=20, kde=True, ax=axes[2], color='green')\n",
    "plt.show()"
   ]
  },
  {
   "cell_type": "markdown",
   "metadata": {},
   "source": [
    "Essa plotagem permite visualizar a distribuição das notas dos alunos. Identifica se os dados seguem uma distribuição normal ou se há viés. Ajuda a detectar outliers (valores extremos)."
   ]
  },
  {
   "cell_type": "code",
   "execution_count": null,
   "metadata": {
    "vscode": {
     "languageId": "plaintext"
    }
   },
   "outputs": [],
   "source": [
    "plt.figure(figsize=(10, 5))\n",
    "sns.boxplot(data=df[[\"math score\", \"reading score\", \"writing score\"]])\n",
    "plt.title(\"Distribuição das Notas\")\n",
    "plt.show()"
   ]
  },
  {
   "cell_type": "markdown",
   "metadata": {},
   "source": [
    "O boxplot mostra a mediana, quartis e possíveis outliers. Ajuda a comparar a distribuição das notas entre diferentes matérias."
   ]
  },
  {
   "cell_type": "code",
   "execution_count": null,
   "metadata": {
    "vscode": {
     "languageId": "plaintext"
    }
   },
   "outputs": [],
   "source": [
    "plt.figure(figsize=(8, 6))\n",
    "sns.heatmap(df.select_dtypes(include=np.number).corr(), annot=True, cmap=\"coolwarm\", fmt=\".2f\")\n",
    "plt.title(\"Matriz de Correlação\")\n",
    "plt.show()"
   ]
  },
  {
   "cell_type": "markdown",
   "metadata": {},
   "source": [
    "Analisei se há relações entre variáveis. Para ajudar a entender quais notas estão mais relacionadas entre si. Pode indicar colinearidade (se duas variáveis são muito correlacionadas, pode ser necessário remover uma para evitar redundância no modelo)."
   ]
  },
  {
   "cell_type": "code",
   "execution_count": null,
   "metadata": {
    "vscode": {
     "languageId": "plaintext"
    }
   },
   "outputs": [],
   "source": [
    "sns.pairplot(df, hue=\"gender\", vars=[\"math score\", \"reading score\", \"writing score\"])\n",
    "plt.show()"
   ]
  },
  {
   "cell_type": "markdown",
   "metadata": {},
   "source": [
    "Assim como no plot acima, esse gráfico nostra a relação entre as diferentes notas.\n",
    "Permite identificar padrões entre gêneros (por exemplo, se um gênero tende a ter notas mais altas em uma matéria específica).\n",
    "Ajuda a visualizar se há correlações lineares entre as variáveis."
   ]
  },
  {
   "cell_type": "markdown",
   "metadata": {},
   "source": [
    " ### 🔹2. Integração de bases e limpeza 🔹"
   ]
  },
  {
   "cell_type": "code",
   "execution_count": null,
   "metadata": {
    "vscode": {
     "languageId": "plaintext"
    }
   },
   "outputs": [],
   "source": [
    "# Verificar valores nulos\n",
    "print(\"Valores Nulos:\\n\", df.isnull().sum())\n",
    "\n",
    "# Remover duplicatas, se houver\n",
    "df.drop_duplicates(inplace=True)"
   ]
  },
  {
   "cell_type": "markdown",
   "metadata": {},
   "source": [
    "Essas etapas fazem parte da limpeza dos dados, que é essencial para garantir análises e modelos precisos. Permite identificar colunas com dados ausentes.\n",
    "Se houver muitas informações ausentes, pode ser necessário tratar os dados (preenchendo ou removendo valores).\n",
    "Dados duplicados podem distorcer análises e modelos preditivos.\n",
    "Mantém a qualidade e confiabilidade do dataset. Por isso foi decidido remover dados duplicados"
   ]
  },
  {
   "cell_type": "markdown",
   "metadata": {},
   "source": [
    " ### 🔹3. Normalização e Engenharia de características🔹"
   ]
  },
  {
   "cell_type": "code",
   "execution_count": null,
   "metadata": {
    "vscode": {
     "languageId": "plaintext"
    }
   },
   "outputs": [],
   "source": [
    "# Criando uma média geral de desempenho do aluno\n",
    "df['nota média'] = df[['math score', 'reading score', 'writing score']].mean(axis=1)\n",
    "\n",
    "# Codificação de variáveis categóricas (Label Encoding)\n",
    "categorical_cols = ['gender', 'race/ethnicity', 'parental level of education', 'lunch', 'test preparation course']\n",
    "encoder = LabelEncoder()\n",
    "\n",
    "for col in categorical_cols:\n",
    "    df[col] = encoder.fit_transform(df[col])\n",
    "\n",
    "# Normalização das notas (opcional, mas útil para alguns modelos)\n",
    "scaler = StandardScaler()\n",
    "df[['math score', 'reading score', 'writing score', 'nota média']] = scaler.fit_transform(df[['math score', 'reading score', 'writing score', 'nota média']])\n"
   ]
  },
  {
   "cell_type": "markdown",
   "metadata": {},
   "source": [
    "O código primeiro cria uma nova coluna chamada \"nota média\", calculando a média das três notas disponíveis para cada aluno. Em seguida, utiliza Label Encoding para converter variáveis categóricas (como gênero e nível de educação dos pais) em valores numéricos, facilitando seu uso em modelos de aprendizado de máquina. Depois, aplica a normalização (StandardScaler) às colunas de notas, garantindo que todas tenham média 0 e desvio padrão 1, o que é especialmente útil para modelos que dependem de escalas padronizadas, como regressão linear e redes neurais."
   ]
  },
  {
   "cell_type": "code",
   "execution_count": null,
   "metadata": {
    "vscode": {
     "languageId": "plaintext"
    }
   },
   "outputs": [],
   "source": [
    "df_original = pd.read_csv(\"https://raw.githubusercontent.com/RafaelFreitas1009/projetoMineracaodeDados/refs/heads/main/Documentos/StudentsPerformance.csv\")  # Carregar os dados originais\n",
    "df_original['nota média'] = df_original[['math score', 'reading score', 'writing score']].mean(axis=1)\n",
    "\n",
    "# Criando subplots\n",
    "fig, axes = plt.subplots(1, 2, figsize=(14, 5))\n",
    "\n",
    "# Boxplot das notas originais\n",
    "sns.boxplot(data=df_original[['math score', 'reading score', 'writing score', 'nota média']], ax=axes[0])\n",
    "axes[0].set_title(\"Notas Originais\")\n",
    "\n",
    "# Boxplot das notas normalizadas\n",
    "sns.boxplot(data=df[['math score', 'reading score', 'writing score', 'nota média']], ax=axes[1])\n",
    "axes[1].set_title(\"Notas Normalizadas\")"
   ]
  },
  {
   "cell_type": "code",
   "execution_count": null,
   "metadata": {
    "vscode": {
     "languageId": "plaintext"
    }
   },
   "outputs": [],
   "source": [
    "fig, axes = plt.subplots(2, 3, figsize=(15, 8))\n",
    "\n",
    "# Notas originais\n",
    "sns.histplot(df_original['math score'], bins=20, kde=True, ax=axes[0, 0], color='blue')\n",
    "sns.histplot(df_original['reading score'], bins=20, kde=True, ax=axes[0, 1], color='red')\n",
    "sns.histplot(df_original['writing score'], bins=20, kde=True, ax=axes[0, 2], color='green')\n",
    "\n",
    "# Notas normalizadas\n",
    "sns.histplot(df['math score'], bins=20, kde=True, ax=axes[1, 0], color='blue')\n",
    "sns.histplot(df['reading score'], bins=20, kde=True, ax=axes[1, 1], color='red')\n",
    "sns.histplot(df['writing score'], bins=20, kde=True, ax=axes[1, 2], color='green')\n",
    "\n",
    "# Configuração dos títulos\n",
    "axes[0, 0].set_title(\"Math Score - Original\")\n",
    "axes[0, 1].set_title(\"Reading Score - Original\")\n",
    "axes[0, 2].set_title(\"Writing Score - Original\")\n",
    "\n",
    "axes[1, 0].set_title(\"Math Score - Normalizado\")\n",
    "axes[1, 1].set_title(\"Reading Score - Normalizado\")\n",
    "axes[1, 2].set_title(\"Writing Score - Normalizado\")\n",
    "\n",
    "plt.tight_layout()\n",
    "plt.show()\n"
   ]
  },
  {
   "cell_type": "markdown",
   "metadata": {},
   "source": [
    "As notas originais terão diferentes escalas e distribuições.\n",
    "Após a normalização, todas as variáveis estarão padronizadas (média 0, desvio padrão 1), e os boxplots parecerão centrados na mesma escala."
   ]
  },
  {
   "cell_type": "markdown",
   "metadata": {},
   "source": [
    " ### 🔹4. Seleção de Características 🔹"
   ]
  },
  {
   "cell_type": "code",
   "execution_count": null,
   "metadata": {
    "vscode": {
     "languageId": "plaintext"
    }
   },
   "outputs": [],
   "source": [
    "# Analisando a correlação entre variáveis\n",
    "plt.figure(figsize=(10,6))\n",
    "sns.heatmap(df.corr(), annot=True, cmap=\"coolwarm\", fmt=\".2f\")\n",
    "plt.show()"
   ]
  },
  {
   "cell_type": "code",
   "execution_count": null,
   "metadata": {
    "vscode": {
     "languageId": "plaintext"
    }
   },
   "outputs": [],
   "source": [
    "# Definindo variáveis independentes (X) e dependentes (y)\n",
    "X = df.drop(columns=['math score', 'reading score', 'writing score', 'nota média'])\n",
    "y = df[\"nota média\"]\n",
    "\n",
    "# Padronização dos dados\n",
    "scaler = StandardScaler()\n",
    "X_scaled = scaler.fit_transform(X)"
   ]
  },
  {
   "cell_type": "code",
   "execution_count": null,
   "metadata": {
    "vscode": {
     "languageId": "plaintext"
    }
   },
   "outputs": [],
   "source": [
    "X_train, X_test, y_train, y_test = train_test_split(X, y, test_size=0.2, random_state=42)\n",
    "\n",
    "# Treinar um modelo simples para ver a importância das variáveis\n",
    "modelo = RandomForestRegressor(n_estimators=100, random_state=42)\n",
    "modelo.fit(X_train, y_train)\n",
    "\n",
    "# Importância das características\n",
    "importances = pd.Series(modelo.feature_importances_, index=X.columns)\n",
    "importances.sort_values(ascending=False).plot(kind=\"bar\", title=\"Importância das Características\")\n",
    "plt.show()"
   ]
  },
  {
   "cell_type": "markdown",
   "metadata": {},
   "source": [
    " ### 🔹5. Análise / Remoção de Outliers 🔹"
   ]
  },
  {
   "cell_type": "code",
   "execution_count": null,
   "metadata": {
    "vscode": {
     "languageId": "plaintext"
    }
   },
   "outputs": [],
   "source": [
    "#Boxplot para identificar outliers\n",
    "plt.figure(figsize=(12, 5))\n",
    "sns.boxplot(data=df[['math score', 'reading score', 'writing score']], palette=\"Set2\")\n",
    "plt.show()\n"
   ]
  },
  {
   "cell_type": "code",
   "execution_count": null,
   "metadata": {
    "vscode": {
     "languageId": "plaintext"
    }
   },
   "outputs": [],
   "source": [
    "# Remover outliers usando o IQR\n",
    "Q1 = df[['math score', 'reading score', 'writing score']].quantile(0.25)\n",
    "Q3 = df[['math score', 'reading score', 'writing score']].quantile(0.75)\n",
    "IQR = Q3 - Q1\n",
    "\n",
    "df = df[~((df[['math score', 'reading score', 'writing score']] < (Q1 - 1.5 * IQR)) |\n",
    "          (df[['math score', 'reading score', 'writing score']] > (Q3 + 1.5 * IQR))).any(axis=1)]"
   ]
  },
  {
   "cell_type": "markdown",
   "metadata": {},
   "source": [
    " ### 🔹6. Modelo usados 🔹"
   ]
  },
  {
   "cell_type": "code",
   "execution_count": null,
   "metadata": {
    "vscode": {
     "languageId": "plaintext"
    }
   },
   "outputs": [],
   "source": [
    "# Divisão entre treino e teste\n",
    "X_train, X_test, y_train, y_test = train_test_split(X, y, test_size=0.2, random_state=42)\n",
    "\n",
    "# Modelo escolhido: Random Forest Regressor\n",
    "modelo = RandomForestRegressor(n_estimators=100, random_state=42)\n",
    "modelo.fit(X_train, y_train)\n",
    "\n",
    "# Previsões no conjunto de teste\n",
    "y_pred = modelo.predict(X_test)\n",
    "\n",
    "# Avaliação do modelo\n",
    "mae = mean_absolute_error(y_test, y_pred)\n",
    "r2 = r2_score(y_test, y_pred)\n",
    "\n",
    "print(f\"Erro Médio Absoluto (MAE): {mae:.2f}\")\n",
    "print(f\"Coeficiente de Determinação (R²): {r2:.2f}\")\n",
    "\n",
    "# Importância das variáveis\n",
    "importances = modelo.feature_importances_\n",
    "feature_names = X.columns\n",
    "\n",
    "plt.figure(figsize=(10,5))\n",
    "sns.barplot(x=importances, y=feature_names, palette=\"viridis\")\n",
    "plt.xlabel(\"Importância\")\n",
    "plt.ylabel(\"Variáveis\")\n",
    "plt.title(\"Importância das Variáveis no Modelo\")\n",
    "plt.show()"
   ]
  },
  {
   "cell_type": "markdown",
   "metadata": {},
   "source": [
    "# Resultados e Discusões"
   ]
  },
  {
   "cell_type": "markdown",
   "metadata": {},
   "source": [
    "O nível de educação dos pais é o maior fator para as maiores notas dos alunos, seguido pela variável de raça e etínia.\n",
    "Essa segunda variável não define que alguma raça é superior a outra, porém mostra que algumas raças/etnias estão ligadas a níveis educacionais e isso influencia as maiores médias dos alunos.\n",
    "O gênero é a variável menos influente na relação das maiores notas dos alunos."
   ]
  }
 ],
 "metadata": {
  "language_info": {
   "name": "python"
  }
 },
 "nbformat": 4,
 "nbformat_minor": 2
}
